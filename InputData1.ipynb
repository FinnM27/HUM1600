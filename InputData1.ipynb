{
  "nbformat": 4,
  "nbformat_minor": 0,
  "metadata": {
    "colab": {
      "provenance": [],
      "authorship_tag": "ABX9TyMbhWaObL7sp4I4d7cip+pz",
      "include_colab_link": true
    },
    "kernelspec": {
      "name": "python3",
      "display_name": "Python 3"
    },
    "language_info": {
      "name": "python"
    }
  },
  "cells": [
    {
      "cell_type": "markdown",
      "metadata": {
        "id": "view-in-github",
        "colab_type": "text"
      },
      "source": [
        "<a href=\"https://colab.research.google.com/github/FinnM27/HUM1600/blob/main/InputData1.ipynb\" target=\"_parent\"><img src=\"https://colab.research.google.com/assets/colab-badge.svg\" alt=\"Open In Colab\"/></a>"
      ]
    },
    {
      "cell_type": "code",
      "execution_count": null,
      "metadata": {
        "id": "VN3enCskvNdL"
      },
      "outputs": [],
      "source": [
        "\"\"\"\n",
        "Finn J. McDonough\n",
        "4/23/2025\n",
        "Quantatative data consists of numerical values that can be measured mathematically.\n",
        "Weight or height would be quantatative.\n",
        "Qualatative data describes characteristics. An example would be\n",
        "Qualatative would be eye or hair color.\n",
        "Precision is the total number of digits in a number, and scale refers to the number\n",
        "of digits to the right of the decimal.\n",
        "\"\"\""
      ]
    },
    {
      "cell_type": "code",
      "source": [
        "# Problem 1\n",
        "print(\"Finn McDonough\\nfinnm320@gmail.com\")"
      ],
      "metadata": {
        "colab": {
          "base_uri": "https://localhost:8080/"
        },
        "id": "YignTZMGwY3t",
        "outputId": "04fa4e40-a3dd-423a-aba2-638c324b056d"
      },
      "execution_count": 1,
      "outputs": [
        {
          "output_type": "stream",
          "name": "stdout",
          "text": [
            "Finn McDonough\n",
            "finnm320@gmail.com\n"
          ]
        }
      ]
    },
    {
      "cell_type": "code",
      "source": [
        "# Problem 2\n",
        "x = 100\n",
        "y = 15\n",
        "\n",
        "print(\"x * y =\", x * y)\n",
        "print(\"Type of x * y:\", type(x * y))\n",
        "print(\"x / y =\", x / y)\n",
        "print(\"Type of x / y:\", type(x / y))"
      ],
      "metadata": {
        "colab": {
          "base_uri": "https://localhost:8080/"
        },
        "id": "oIuSVgOlwltQ",
        "outputId": "14fe541d-e3de-4880-b8a4-324ba7b03770"
      },
      "execution_count": 2,
      "outputs": [
        {
          "output_type": "stream",
          "name": "stdout",
          "text": [
            "x * y = 1500\n",
            "Type of x * y: <class 'int'>\n",
            "x / y = 6.666666666666667\n",
            "Type of x / y: <class 'float'>\n"
          ]
        }
      ]
    },
    {
      "cell_type": "code",
      "source": [
        "# Problem 3\n",
        "x = int(input(\"Enter first integer:\"))\n",
        "y = int(input(\"Enter second integer:\"))\n",
        "\n",
        "print(\"x * y =\", x * y)\n",
        "print(\"Type of x * y:\", type(x * y))\n",
        "print(\"x / y =\", x / y)\n",
        "print(\"Type of x / y:\", type(x / y))"
      ],
      "metadata": {
        "id": "uf4QUHAUxJbJ"
      },
      "execution_count": null,
      "outputs": []
    },
    {
      "cell_type": "code",
      "source": [
        "# Problem 4 (text cell)\n",
        "\"\"\"\n",
        "Row 2 - a or b: true\n",
        "Row 4 - a and (a or b): false\n",
        "Row 3 - not a: true\n",
        "\"\"\""
      ],
      "metadata": {
        "id": "5Cqia_MgyaJf"
      },
      "execution_count": null,
      "outputs": []
    },
    {
      "cell_type": "code",
      "source": [
        "# Problem 5\n",
        "school_name = \"University of Utah\"\n",
        "\n",
        "print(school_name[14] + school_name[8] + school_name[4] + school_name[6], end=\"!\\n\")"
      ],
      "metadata": {
        "id": "haaxmygCyyZN"
      },
      "execution_count": null,
      "outputs": []
    },
    {
      "cell_type": "code",
      "source": [
        "# Problem 6\n",
        "speech = \"To be or not to be, that is the question. Whether tis nobler in the mind to suffer the slings and arrows of outrageous fortune, or to take arms against a sea of troubles and by opposing end them.\"\n",
        "new_phrase = \"a rebel's thorn.\"\n",
        "print(new_phrase)"
      ],
      "metadata": {
        "id": "KsDgGmzKztKj"
      },
      "execution_count": null,
      "outputs": []
    }
  ]
}