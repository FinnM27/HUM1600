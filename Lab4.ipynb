{
  "nbformat": 4,
  "nbformat_minor": 0,
  "metadata": {
    "colab": {
      "provenance": [],
      "authorship_tag": "ABX9TyO9mBYZR1HdF8TRTXvA51JN",
      "include_colab_link": true
    },
    "kernelspec": {
      "name": "python3",
      "display_name": "Python 3"
    },
    "language_info": {
      "name": "python"
    }
  },
  "cells": [
    {
      "cell_type": "markdown",
      "metadata": {
        "id": "view-in-github",
        "colab_type": "text"
      },
      "source": [
        "<a href=\"https://colab.research.google.com/github/FinnM27/HUM1600/blob/main/Lab4.ipynb\" target=\"_parent\"><img src=\"https://colab.research.google.com/assets/colab-badge.svg\" alt=\"Open In Colab\"/></a>"
      ]
    },
    {
      "cell_type": "markdown",
      "source": [
        "Week 4 Lab\n",
        "\n",
        "Level: Beginner\n",
        "\n",
        "Name: Finnegan J. McDonough\n",
        "\n",
        "UID: u1370067"
      ],
      "metadata": {
        "id": "2k4Zb4lG7x9n"
      }
    },
    {
      "cell_type": "code",
      "execution_count": null,
      "metadata": {
        "colab": {
          "base_uri": "https://localhost:8080/"
        },
        "id": "wqRVrxgt7mEo",
        "outputId": "783ad214-498b-4b10-98b9-40358d3c11b6"
      },
      "outputs": [
        {
          "output_type": "stream",
          "name": "stdout",
          "text": [
            "<class 'int'>\n",
            "<class 'float'>\n",
            "<class 'str'>\n",
            "<class 'bool'>\n",
            "<class 'bool'>\n",
            "<class 'str'>\n",
            "<class 'float'>\n"
          ]
        }
      ],
      "source": [
        "# Review: Data Types\n",
        "# Identify Data Types\n",
        "print(type(42))\n",
        "print(type(3.14159))\n",
        "print(type(\"Hello, world!\"))\n",
        "print(type(True))\n",
        "print(type(False))\n",
        "print(type(\"12345\"))\n",
        "print(type(7.0))"
      ]
    },
    {
      "cell_type": "code",
      "source": [
        "# Evaluate Expressions\n",
        "print(type(10 + 5)) # 'int' 15\n",
        "print(type(10 / 2)) # 'float' 5\n",
        "print(type(10 > 2)) # 'bool'\n",
        "print(type(\"Hello\" + \" \" + \"World\")) # 'str' Hello World\n",
        "print(type(4 * 3.5)) # 'float' 14"
      ],
      "metadata": {
        "colab": {
          "base_uri": "https://localhost:8080/"
        },
        "id": "MbAq3gXT-oe7",
        "outputId": "514d3224-4735-4b0b-db3f-cc0fc3b7085a"
      },
      "execution_count": null,
      "outputs": [
        {
          "output_type": "stream",
          "name": "stdout",
          "text": [
            "<class 'int'>\n",
            "<class 'float'>\n",
            "<class 'bool'>\n",
            "<class 'str'>\n",
            "<class 'float'>\n"
          ]
        }
      ]
    },
    {
      "cell_type": "code",
      "source": [
        "# Boolean Logic Practive\n",
        "print(True and False)\n",
        "print(True or False)\n",
        "print(not True)\n",
        "print(5 > 3 and 2 < 4)\n",
        "print(3 == 3 or 5 != 5)"
      ],
      "metadata": {
        "colab": {
          "base_uri": "https://localhost:8080/"
        },
        "id": "uyv42J52_3WE",
        "outputId": "633a456c-5f1d-4f02-ef42-5d26583bc49f"
      },
      "execution_count": null,
      "outputs": [
        {
          "output_type": "stream",
          "name": "stdout",
          "text": [
            "False\n",
            "True\n",
            "False\n",
            "True\n",
            "True\n"
          ]
        }
      ]
    },
    {
      "cell_type": "code",
      "source": [
        "# Challenge Task\n",
        "\n",
        "# An integer value\n",
        "10\n",
        "\n",
        "# A float value\n",
        "3.14\n",
        "\n",
        "#A string that combines \"Python\" and \"Programming\"\n",
        "\"Python Programming\"\n",
        "\n",
        "# A boolean value that evaluates to False\n",
        "False"
      ],
      "metadata": {
        "id": "Ko94vchaAqLw"
      },
      "execution_count": null,
      "outputs": []
    },
    {
      "cell_type": "code",
      "source": [
        "# Review Variables\n",
        "\n",
        "age = 22\n",
        "print(age)\n",
        "\n",
        "pi_value = 3.14159\n",
        "print(pi_value)\n",
        "\n",
        "greeting = \"Hello\"\n",
        "print(greeting)\n",
        "\n",
        "is_python_fun = \"sure\"\n",
        "print(is_python_fun)\n",
        "\n",
        "# Checking Variable Data Types\n",
        "\n",
        "print(type(age))\n",
        "print(type(pi_value))\n",
        "print(type(greeting))\n",
        "print(type(is_python_fun))\n",
        "\n",
        "# Updating Variable Values\n",
        "\n",
        "age = 206\n",
        "print(age)\n",
        "\n",
        "pi_value = 22\n",
        "print(pi_value)\n",
        "\n",
        "greeting = \"Good evening\"\n",
        "print(greeting)\n",
        "\n",
        "is_python_fun = \"hell yeah brother\"\n",
        "print(is_python_fun)\n",
        "\n",
        "# Variable Operations\n",
        "\n",
        "age = age + 5\n",
        "print(age)\n",
        "\n",
        "pi_value = pi_value * 2\n",
        "print(pi_value)\n",
        "\n",
        "print(\"Hello\" + \" \" + \"Python\")\n",
        "\n",
        "is_python_fun = is_python_fun + \"...\" + \" \" + \"not!\"\n",
        "\n",
        "print(is_python_fun)\n",
        "\n",
        "# Boolean Expressions with Variables\n",
        "\n",
        "print(age > 20 and age < 40)\n",
        "print(pi_value == 3.14 or pi_value > 3)\n",
        "print(not(age < 18))"
      ],
      "metadata": {
        "colab": {
          "base_uri": "https://localhost:8080/"
        },
        "id": "8tbG6DIVBpmu",
        "outputId": "cd6a354f-0f9d-458d-90b6-1aa2257eda3c"
      },
      "execution_count": null,
      "outputs": [
        {
          "output_type": "stream",
          "name": "stdout",
          "text": [
            "22\n",
            "3.14159\n",
            "Hello\n",
            "sure\n",
            "<class 'int'>\n",
            "<class 'float'>\n",
            "<class 'str'>\n",
            "<class 'str'>\n",
            "206\n",
            "22\n",
            "Good evening\n",
            "hell yeah brother\n",
            "211\n",
            "44\n",
            "Hello Python\n",
            "hell yeah brother... not!\n",
            "False\n",
            "True\n",
            "True\n"
          ]
        }
      ]
    },
    {
      "cell_type": "code",
      "source": [
        "# Challenge Task\n",
        "\n",
        "name = \"Finn\"\n",
        "year_of_birth = 2003\n",
        "current_year = 2025\n",
        "age = current_year - year_of_birth\n",
        "print(age)\n",
        "\n",
        "print(\"My name is\" + \" \" + name + \",\" + \" \" + \"I was born in 2003.\")"
      ],
      "metadata": {
        "colab": {
          "base_uri": "https://localhost:8080/"
        },
        "id": "WuaqbC53CevS",
        "outputId": "28dc83cc-b00b-4f35-8ddb-2fc823ec82c7"
      },
      "execution_count": null,
      "outputs": [
        {
          "output_type": "stream",
          "name": "stdout",
          "text": [
            "22\n",
            "My name is Finn, I was born in 2003.\n"
          ]
        }
      ]
    },
    {
      "cell_type": "code",
      "source": [
        "# New: User Input\n",
        "\n",
        "# Getting Input From Users\n",
        "name = input(\"Please enter your name:\")\n",
        "print(\"Hello,\" + name)\n",
        "\n",
        "# Converting User Input\n",
        "age_str = input(\"Please enter your age:\")\n",
        "age = int(age_str)\n",
        "print(\"Next year, you will be\" + \" \" + \"23\")\n",
        "\n"
      ],
      "metadata": {
        "colab": {
          "base_uri": "https://localhost:8080/",
          "height": 350
        },
        "id": "8xxpzh42Izjk",
        "outputId": "8611abed-438a-4a19-b466-32c569cf3a06"
      },
      "execution_count": 86,
      "outputs": [
        {
          "output_type": "error",
          "ename": "KeyboardInterrupt",
          "evalue": "Interrupted by user",
          "traceback": [
            "\u001b[0;31m---------------------------------------------------------------------------\u001b[0m",
            "\u001b[0;31mKeyboardInterrupt\u001b[0m                         Traceback (most recent call last)",
            "\u001b[0;32m<ipython-input-86-45f218822625>\u001b[0m in \u001b[0;36m<cell line: 0>\u001b[0;34m()\u001b[0m\n\u001b[1;32m      2\u001b[0m \u001b[0;34m\u001b[0m\u001b[0m\n\u001b[1;32m      3\u001b[0m \u001b[0;31m# Getting Input From Users\u001b[0m\u001b[0;34m\u001b[0m\u001b[0;34m\u001b[0m\u001b[0m\n\u001b[0;32m----> 4\u001b[0;31m \u001b[0mname\u001b[0m \u001b[0;34m=\u001b[0m \u001b[0minput\u001b[0m\u001b[0;34m(\u001b[0m\u001b[0;34m\"Please enter your name:\"\u001b[0m\u001b[0;34m)\u001b[0m\u001b[0;34m\u001b[0m\u001b[0;34m\u001b[0m\u001b[0m\n\u001b[0m\u001b[1;32m      5\u001b[0m \u001b[0mprint\u001b[0m\u001b[0;34m(\u001b[0m\u001b[0;34m\"Hello,\"\u001b[0m \u001b[0;34m+\u001b[0m \u001b[0mname\u001b[0m\u001b[0;34m)\u001b[0m\u001b[0;34m\u001b[0m\u001b[0;34m\u001b[0m\u001b[0m\n\u001b[1;32m      6\u001b[0m \u001b[0;34m\u001b[0m\u001b[0m\n",
            "\u001b[0;32m/usr/local/lib/python3.11/dist-packages/ipykernel/kernelbase.py\u001b[0m in \u001b[0;36mraw_input\u001b[0;34m(self, prompt)\u001b[0m\n\u001b[1;32m    849\u001b[0m                 \u001b[0;34m\"raw_input was called, but this frontend does not support input requests.\"\u001b[0m\u001b[0;34m\u001b[0m\u001b[0;34m\u001b[0m\u001b[0m\n\u001b[1;32m    850\u001b[0m             )\n\u001b[0;32m--> 851\u001b[0;31m         return self._input_request(str(prompt),\n\u001b[0m\u001b[1;32m    852\u001b[0m             \u001b[0mself\u001b[0m\u001b[0;34m.\u001b[0m\u001b[0m_parent_ident\u001b[0m\u001b[0;34m,\u001b[0m\u001b[0;34m\u001b[0m\u001b[0;34m\u001b[0m\u001b[0m\n\u001b[1;32m    853\u001b[0m             \u001b[0mself\u001b[0m\u001b[0;34m.\u001b[0m\u001b[0m_parent_header\u001b[0m\u001b[0;34m,\u001b[0m\u001b[0;34m\u001b[0m\u001b[0;34m\u001b[0m\u001b[0m\n",
            "\u001b[0;32m/usr/local/lib/python3.11/dist-packages/ipykernel/kernelbase.py\u001b[0m in \u001b[0;36m_input_request\u001b[0;34m(self, prompt, ident, parent, password)\u001b[0m\n\u001b[1;32m    893\u001b[0m             \u001b[0;32mexcept\u001b[0m \u001b[0mKeyboardInterrupt\u001b[0m\u001b[0;34m:\u001b[0m\u001b[0;34m\u001b[0m\u001b[0;34m\u001b[0m\u001b[0m\n\u001b[1;32m    894\u001b[0m                 \u001b[0;31m# re-raise KeyboardInterrupt, to truncate traceback\u001b[0m\u001b[0;34m\u001b[0m\u001b[0;34m\u001b[0m\u001b[0m\n\u001b[0;32m--> 895\u001b[0;31m                 \u001b[0;32mraise\u001b[0m \u001b[0mKeyboardInterrupt\u001b[0m\u001b[0;34m(\u001b[0m\u001b[0;34m\"Interrupted by user\"\u001b[0m\u001b[0;34m)\u001b[0m \u001b[0;32mfrom\u001b[0m \u001b[0;32mNone\u001b[0m\u001b[0;34m\u001b[0m\u001b[0;34m\u001b[0m\u001b[0m\n\u001b[0m\u001b[1;32m    896\u001b[0m             \u001b[0;32mexcept\u001b[0m \u001b[0mException\u001b[0m \u001b[0;32mas\u001b[0m \u001b[0me\u001b[0m\u001b[0;34m:\u001b[0m\u001b[0;34m\u001b[0m\u001b[0;34m\u001b[0m\u001b[0m\n\u001b[1;32m    897\u001b[0m                 \u001b[0mself\u001b[0m\u001b[0;34m.\u001b[0m\u001b[0mlog\u001b[0m\u001b[0;34m.\u001b[0m\u001b[0mwarning\u001b[0m\u001b[0;34m(\u001b[0m\u001b[0;34m\"Invalid Message:\"\u001b[0m\u001b[0;34m,\u001b[0m \u001b[0mexc_info\u001b[0m\u001b[0;34m=\u001b[0m\u001b[0;32mTrue\u001b[0m\u001b[0;34m)\u001b[0m\u001b[0;34m\u001b[0m\u001b[0;34m\u001b[0m\u001b[0m\n",
            "\u001b[0;31mKeyboardInterrupt\u001b[0m: Interrupted by user"
          ]
        }
      ]
    },
    {
      "cell_type": "code",
      "source": [
        "pi = float(input(\"Enter the value of pi:\"))\n",
        "print(type(pi))"
      ],
      "metadata": {
        "colab": {
          "base_uri": "https://localhost:8080/"
        },
        "id": "Zu3sf6f6N5is",
        "outputId": "03c47b61-e7c3-42c4-a75a-9b60b47b4bbc"
      },
      "execution_count": null,
      "outputs": [
        {
          "output_type": "stream",
          "name": "stdout",
          "text": [
            "Enter the value of pi:3.14\n",
            "<class 'float'>\n"
          ]
        }
      ]
    },
    {
      "cell_type": "code",
      "source": [
        "# Performing Operations on User Input\n",
        "\n",
        "num1 = int(input(\"Enter number one of three:\"))\n",
        "num2 = int(input(\"Enter number two of three:\"))\n",
        "num3 = int(input(\"Enter number three of three:\"))\n",
        "print(\"You entered:\", num1, num2, num3)\n",
        "num4 = int(num1 + num2 + num3)\n",
        "print(num4)"
      ],
      "metadata": {
        "id": "7J8FelRpOSEL",
        "colab": {
          "base_uri": "https://localhost:8080/"
        },
        "outputId": "4a05af79-0573-4c1a-ccd0-28990c643d87"
      },
      "execution_count": 92,
      "outputs": [
        {
          "output_type": "stream",
          "name": "stdout",
          "text": [
            "Enter number one of three:2\n",
            "Enter number two of three:3\n",
            "Enter number three of three:4\n",
            "You entered: 2 3 4\n",
            "9\n"
          ]
        }
      ]
    },
    {
      "cell_type": "code",
      "source": [
        "# Challenge Task\n",
        "\n",
        "first_name = input(\"Enter your first name:\")\n",
        "last_name = input(\"Enter your last name:\")\n",
        "birth_year = int(input(\"Enter your birth year:\"))\n",
        "# print(\"You entered: \"+ first_name, last_name, birth_year)\n",
        "\n",
        "current_year = 2025\n",
        "approximate_age = (str(current_year - birth_year))\n",
        "\n",
        "print(\"Hello \" + first_name, last_name + \". \" + \"You are approximately \" + approximate_age + \" years old.\")"
      ],
      "metadata": {
        "colab": {
          "base_uri": "https://localhost:8080/"
        },
        "id": "TVfYN14xQf6T",
        "outputId": "6c9a1382-5fbc-4f1b-a54a-3a331da9d064"
      },
      "execution_count": 127,
      "outputs": [
        {
          "output_type": "stream",
          "name": "stdout",
          "text": [
            "Enter your first name:Finn\n",
            "Enter your last name:McDonough\n",
            "Enter your birth year:2003\n",
            "Hello Finn McDonough. You are approximately 22 years old.\n"
          ]
        }
      ]
    },
    {
      "cell_type": "code",
      "source": [
        "# New: Decisions\n",
        "# Using \"if\" Statements\n",
        "\n",
        "age = int(input(\"Enter your age:\"))\n",
        "if age >= 18:\n",
        "  print(\"You are an adult\")\n"
      ],
      "metadata": {
        "colab": {
          "base_uri": "https://localhost:8080/"
        },
        "id": "wu6fKTHuWsNM",
        "outputId": "7817297e-45e0-48a1-a0db-cff7966dd92c"
      },
      "execution_count": 134,
      "outputs": [
        {
          "name": "stdout",
          "output_type": "stream",
          "text": [
            "Enter your age:16\n"
          ]
        }
      ]
    },
    {
      "cell_type": "code",
      "source": [
        "# Using \"if-else\" Statements\n",
        "\n",
        "age = int(input(\"Enter your age:\"))\n",
        "if age >= 18:\n",
        "  print(\"You are an adult\")\n",
        "if age <= 18:\n",
        "  print(\"You are not an adult\")"
      ],
      "metadata": {
        "colab": {
          "base_uri": "https://localhost:8080/"
        },
        "id": "LyFN3MOCXngq",
        "outputId": "b9b40600-b3ff-4c49-8fbe-b6a7854f48f9"
      },
      "execution_count": 136,
      "outputs": [
        {
          "output_type": "stream",
          "name": "stdout",
          "text": [
            "Enter your age:16\n",
            "You are not an adult\n"
          ]
        }
      ]
    },
    {
      "cell_type": "code",
      "source": [
        "# Using \"if-elif-else\" Statements\n",
        "\n",
        "age = int(input(\"Enter your age:\"))\n",
        "if age <= 13:\n",
        "  print(\"Child\")\n",
        "if age > 12 and age < 18:\n",
        "  print(\"Teenager\")\n",
        "if age >= 18 and age < 61:\n",
        "  print(\"Adult\")\n",
        "if age >= 61:\n",
        "  print(\"Elderly\")"
      ],
      "metadata": {
        "colab": {
          "base_uri": "https://localhost:8080/"
        },
        "id": "5sw7JKc6YPPG",
        "outputId": "88540134-a548-49f4-d8a7-9230ed4216d1"
      },
      "execution_count": 152,
      "outputs": [
        {
          "output_type": "stream",
          "name": "stdout",
          "text": [
            "Enter your age:11\n",
            "Child\n"
          ]
        }
      ]
    },
    {
      "cell_type": "code",
      "source": [
        "# Challege Task\n",
        "\n",
        "number = int(input(\"Enter a number:\"))\n",
        "if number > 0:\n",
        "  print(\"Your number is positive\")\n",
        "if number < 0:\n",
        "  print(\"Your number is negative\")\n",
        "if number == 0:\n",
        "  print(\"Your entered zero\")"
      ],
      "metadata": {
        "colab": {
          "base_uri": "https://localhost:8080/"
        },
        "id": "Gr5qWvNlaOCE",
        "outputId": "243b53a5-b01a-4d4c-c09c-c0e33b7789da"
      },
      "execution_count": 160,
      "outputs": [
        {
          "output_type": "stream",
          "name": "stdout",
          "text": [
            "Enter a number:0\n",
            "Your entered zero\n"
          ]
        }
      ]
    }
  ]
}